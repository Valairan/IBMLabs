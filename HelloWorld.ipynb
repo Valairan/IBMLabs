{
  "nbformat": 4,
  "nbformat_minor": 0,
  "metadata": {
    "colab": {
      "name": "Untitled4.ipynb",
      "provenance": [],
      "toc_visible": true,
      "authorship_tag": "ABX9TyMo68Q6byPBmtvvfkLygkXc",
      "include_colab_link": true
    },
    "kernelspec": {
      "name": "python3",
      "display_name": "Python 3"
    }
  },
  "cells": [
    {
      "cell_type": "markdown",
      "metadata": {
        "id": "view-in-github",
        "colab_type": "text"
      },
      "source": [
        "<a href=\"https://colab.research.google.com/github/Valairan/IBMLabs/blob/master/HelloWorld.ipynb\" target=\"_parent\"><img src=\"https://colab.research.google.com/assets/colab-badge.svg\" alt=\"Open In Colab\"/></a>"
      ]
    },
    {
      "cell_type": "code",
      "metadata": {
        "id": "iNv1jwJk3S5X",
        "colab_type": "code",
        "outputId": "45f10fe8-840a-4ccf-e289-0735cee97fea",
        "colab": {
          "base_uri": "https://localhost:8080/",
          "height": 34
        }
      },
      "source": [
        "#Hello World\n",
        "print (\"I'm here to watch the world burn\")"
      ],
      "execution_count": 0,
      "outputs": [
        {
          "output_type": "stream",
          "text": [
            "Hello world\n"
          ],
          "name": "stdout"
        }
      ]
    },
    {
      "cell_type": "code",
      "metadata": {
        "id": "LNNV8Buh55vf",
        "colab_type": "code",
        "outputId": "743c7f88-f02c-44ee-93d1-2d8d537890b7",
        "colab": {
          "base_uri": "https://localhost:8080/",
          "height": 68
        }
      },
      "source": [
        "#Adding two numbers\n",
        "num1 = int(input(\"Enter a number :\"))\n",
        "num1 = num1 + int(input(\"Enter a number :\"))\n",
        "\n",
        "#Displaying the sum\n",
        "print(\"The sum of the numbers is {0}\" .format(num1))"
      ],
      "execution_count": 0,
      "outputs": [
        {
          "output_type": "stream",
          "text": [
            "Enter a number :5\n",
            "Enter a number :5\n",
            "The sum of the numbers is 10\n"
          ],
          "name": "stdout"
        }
      ]
    },
    {
      "cell_type": "code",
      "metadata": {
        "id": "TxyeVR2J9IRL",
        "colab_type": "code",
        "outputId": "19bd532b-fa84-46d7-ff5b-4ebe5361e272",
        "colab": {
          "base_uri": "https://localhost:8080/",
          "height": 34
        }
      },
      "source": [
        "#Random\n",
        "import random\n",
        "\n",
        "print(random.randint(0, 100))"
      ],
      "execution_count": 0,
      "outputs": [
        {
          "output_type": "stream",
          "text": [
            "79\n"
          ],
          "name": "stdout"
        }
      ]
    },
    {
      "cell_type": "code",
      "metadata": {
        "id": "UIOBE92Y7NFP",
        "colab_type": "code",
        "outputId": "17318b0e-8096-48e6-c11d-ce66c951b06e",
        "colab": {
          "base_uri": "https://localhost:8080/",
          "height": 85
        }
      },
      "source": [
        "#Largest of three numbers\n",
        "num1 = float(input(\"Enter the first number:\"))\n",
        "num2 = float(input(\"Enter the second number:\"))\n",
        "num3 = float(input(\"Enter the third number:\"))\n",
        "if(num1>num2) and (num1>num3):\n",
        "  largest = num1\n",
        "elif(num2>num1) and (num2>num3):\n",
        "  largest = num2\n",
        "else:\n",
        "  largest = num3\n",
        "print(\"The largest number is \", largest)"
      ],
      "execution_count": 0,
      "outputs": [
        {
          "output_type": "stream",
          "text": [
            "Enter the first number:5\n",
            "Enter the second number:6\n",
            "Enter the third number:9\n",
            "The largest number is  9.0\n"
          ],
          "name": "stdout"
        }
      ]
    },
    {
      "cell_type": "code",
      "metadata": {
        "id": "ZxKSrAep8o5r",
        "colab_type": "code",
        "outputId": "fc2b7b67-5262-4561-b9f9-37fdc1de114e",
        "colab": {
          "base_uri": "https://localhost:8080/",
          "height": 51
        }
      },
      "source": [
        "#Factorial of a number\n",
        "num = int(input(\"Enter a number:\"))\n",
        "factorial = 1\n",
        "if num < 0:\n",
        "  print(\"Sorry, factorial doesn't exist for negative numbers\")\n",
        "elif num == 0:\n",
        "  print(\"The factorial of 0 is 1\")\n",
        "else: \n",
        "  for i in range(1, num +1):\n",
        "    factorial = factorial * i;\n",
        "print(\"The factorial of \", num, \" is \", factorial)"
      ],
      "execution_count": 0,
      "outputs": [
        {
          "output_type": "stream",
          "text": [
            "Enter a number:7\n",
            "The factorial of  7  is  5040\n"
          ],
          "name": "stdout"
        }
      ]
    },
    {
      "cell_type": "code",
      "metadata": {
        "id": "Nph6SB_6_Xqi",
        "colab_type": "code",
        "outputId": "d26de455-b181-4836-9cc5-e8f630551fc4",
        "colab": {
          "base_uri": "https://localhost:8080/",
          "height": 68
        }
      },
      "source": [
        "#Calendar\n",
        "import calendar\n",
        "\n",
        "yy = int(input(\"Enter a year:\"))\n",
        "mm = int(input(\"Enter a month:\"))\n",
        "print(calendar.isleap(yy))"
      ],
      "execution_count": 0,
      "outputs": [
        {
          "output_type": "stream",
          "text": [
            "Enter a year:1999\n",
            "Enter a month:9\n",
            "False\n"
          ],
          "name": "stdout"
        }
      ]
    },
    {
      "cell_type": "code",
      "metadata": {
        "id": "m8E0SHqwCLyl",
        "colab_type": "code",
        "outputId": "c5010e8b-4fe3-4323-ae13-d7de996831b2",
        "colab": {
          "base_uri": "https://localhost:8080/",
          "height": 85
        }
      },
      "source": [
        "#Conversion of number systems\n",
        "dec = int(input(\"Enter a number: \"))\n",
        "print(\"The value of \", dec,\" is \", bin(dec), \" in binary,\")\n",
        "print(oct(dec), \"in octal,\")\n",
        "print(hex(dec), \"in hexadecimal.\")"
      ],
      "execution_count": 0,
      "outputs": [
        {
          "output_type": "stream",
          "text": [
            "Enter a number: 16\n",
            "The value of  16  is  0b10000  in binary,\n",
            "0o20 in octal,\n",
            "0x10 in hexadecimal.\n"
          ],
          "name": "stdout"
        }
      ]
    },
    {
      "cell_type": "code",
      "metadata": {
        "id": "fGmtbrmWEqcQ",
        "colab_type": "code",
        "colab": {}
      },
      "source": [
        "#Palindromes\n",
        "inputString = input(\"Enter the string \").casefold()\n",
        "if(list(inputString) == list(reversed(inputString))):\n",
        "  print(\"The string is a palindrome\")\n",
        "else:\n",
        "  print(\"The string is not a palindrome\")"
      ],
      "execution_count": 0,
      "outputs": []
    },
    {
      "cell_type": "code",
      "metadata": {
        "id": "ij6UZGBMExhL",
        "colab_type": "code",
        "colab": {
          "base_uri": "https://localhost:8080/",
          "height": 34
        },
        "outputId": "7a1d6304-648a-411c-a65b-2539d2d05eb5"
      },
      "source": [
        "#Matrix addition\n",
        "x = [[1,2,3],[4,5,6],[7,8,9]]\n",
        "y = [[9,8,7],[6,5,4],[3,2,1]]\n",
        "result = [[0,0,0],[0,0,0],[0,0,0]]\n",
        "\n",
        "for i in range(len(x)):\n",
        "  for j in range(len(y)):\n",
        "    result[i][j] = x[i][j] + y[i][j]\n",
        "print(result)"
      ],
      "execution_count": 2,
      "outputs": [
        {
          "output_type": "stream",
          "text": [
            "[[10, 10, 10], [10, 10, 10], [10, 10, 10]]\n"
          ],
          "name": "stdout"
        }
      ]
    },
    {
      "cell_type": "code",
      "metadata": {
        "id": "Lkdey1dAFWv4",
        "colab_type": "code",
        "colab": {
          "base_uri": "https://localhost:8080/",
          "height": 51
        },
        "outputId": "16b28041-1068-4995-9526-a4f1d3bd69de"
      },
      "source": [
        "#Square root of a number\n",
        "num = int(input(\"Enter a number:\"))\n",
        "res = num ** 0.5\n",
        "print(\"The square root of the number is \",res)"
      ],
      "execution_count": 4,
      "outputs": [
        {
          "output_type": "stream",
          "text": [
            "Enter a number:25\n",
            "The square root of the number is  5.0\n"
          ],
          "name": "stdout"
        }
      ]
    }
  ]
}