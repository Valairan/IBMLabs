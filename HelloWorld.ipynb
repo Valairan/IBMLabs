{
  "nbformat": 4,
  "nbformat_minor": 0,
  "metadata": {
    "colab": {
      "name": "Untitled4.ipynb",
      "provenance": [],
      "toc_visible": true,
      "authorship_tag": "ABX9TyNbVJWa8Skr1jxIp5ho505L",
      "include_colab_link": true
    },
    "kernelspec": {
      "name": "python3",
      "display_name": "Python 3"
    }
  },
  "cells": [
    {
      "cell_type": "markdown",
      "metadata": {
        "id": "view-in-github",
        "colab_type": "text"
      },
      "source": [
        "<a href=\"https://colab.research.google.com/github/Valairan/IBMLabs/blob/master/HelloWorld.ipynb\" target=\"_parent\"><img src=\"https://colab.research.google.com/assets/colab-badge.svg\" alt=\"Open In Colab\"/></a>"
      ]
    },
    {
      "cell_type": "code",
      "metadata": {
        "id": "iNv1jwJk3S5X",
        "colab_type": "code",
        "outputId": "45f10fe8-840a-4ccf-e289-0735cee97fea",
        "colab": {
          "base_uri": "https://localhost:8080/",
          "height": 34
        }
      },
      "source": [
        "print (\"Hello world\")"
      ],
      "execution_count": 0,
      "outputs": [
        {
          "output_type": "stream",
          "text": [
            "Hello world\n"
          ],
          "name": "stdout"
        }
      ]
    },
    {
      "cell_type": "code",
      "metadata": {
        "id": "LNNV8Buh55vf",
        "colab_type": "code",
        "colab": {
          "base_uri": "https://localhost:8080/",
          "height": 68
        },
        "outputId": "01dce987-7046-460d-9bfb-dbde069ea358"
      },
      "source": [
        "num1 = int(input(\"Enter a number :\"))\n",
        "num2 = int(input(\"Enter a number :\"))\n",
        "\n",
        "sum = float(num1) + float(num2)\n",
        "\n",
        "print(\"The sum of {0} and {1} is {2}\".format(num1, num2, sum))"
      ],
      "execution_count": 2,
      "outputs": [
        {
          "output_type": "stream",
          "text": [
            "Enter a number :5\n",
            "Enter a number :5\n",
            "The sum of 5 and 5 is 10.0\n"
          ],
          "name": "stdout"
        }
      ]
    }
  ]
}